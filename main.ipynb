{
 "cells": [
  {
   "cell_type": "code",
   "execution_count": null,
   "metadata": {},
   "outputs": [],
   "source": [
    "import torch\n",
    "from dataset import SemanticSegmentationDataset\n",
    "\n",
    "# data loaders\n",
    "\n",
    "# init model and opt\n",
    "\n",
    "# choose classes to include from Categories\n",
    "\n",
    "# define hyperparameters"
   ]
  }
 ],
 "metadata": {
  "language_info": {
   "name": "python"
  }
 },
 "nbformat": 4,
 "nbformat_minor": 2
}
