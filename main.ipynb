{
 "cells": [
  {
   "cell_type": "code",
   "execution_count": null,
   "metadata": {},
   "outputs": [],
   "source": [
    "import torch\n",
    "import torch.nn as nn\n",
    "from torch.utils.data import DataLoader\n",
    "import torch.optim as optim\n",
    "from dataset import SemanticSegmentationDataset\n",
    "from models.unet import UNet\n",
    "\n",
    "# define hyperparameters\n",
    "hyperparameters = {}\n",
    "hyperparameters['lr'] = 1e-4\n",
    "hyperparameters['batch_size'] = 32"
   ]
  },
  {
   "cell_type": "code",
   "execution_count": null,
   "metadata": {},
   "outputs": [],
   "source": [
    "# data set\n",
    "# TODO: choose classes to include from Categories\n",
    "train_data = SemanticSegmentationDataset('train')\n",
    "test_data = SemanticSegmentationDataset('test')\n",
    "\n",
    "train_loader = DataLoader(train_data, batch_size=hyperparameters['batch_size'])\n",
    "test_loader = DataLoader(test_data, batch_size=hyperparameters['batch_size'])"
   ]
  },
  {
   "cell_type": "code",
   "execution_count": null,
   "metadata": {},
   "outputs": [],
   "source": [
    "# init model and opt\n",
    "model = UNet()\n",
    "\n",
    "optimizer = optim.Adam(model.parameters(), lr=hyperparameters['lr'])\n",
    "# TODO: more research into loss functions\n",
    "criterion = nn.CrossEntropyLoss()"
   ]
  }
 ],
 "metadata": {
  "language_info": {
   "name": "python"
  }
 },
 "nbformat": 4,
 "nbformat_minor": 2
}
