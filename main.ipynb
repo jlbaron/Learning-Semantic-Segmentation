{
 "cells": [
  {
   "cell_type": "code",
   "execution_count": null,
   "metadata": {},
   "outputs": [],
   "source": [
    "import torch\n",
    "from dataset import SemanticSegmentationDataset\n",
    "\n",
    "# data gens\n",
    "# ce loss, experiment with optimizers (SGD momentum, Adam)"
   ]
  }
 ],
 "metadata": {
  "language_info": {
   "name": "python"
  }
 },
 "nbformat": 4,
 "nbformat_minor": 2
}
